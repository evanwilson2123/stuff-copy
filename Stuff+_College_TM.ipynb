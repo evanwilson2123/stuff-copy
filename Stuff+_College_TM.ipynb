{
  "cells": [
    {
      "cell_type": "markdown",
      "metadata": {
        "id": "view-in-github",
        "colab_type": "text"
      },
      "source": [
        "<a href=\"https://colab.research.google.com/github/evanwilson2123/stuff-copy/blob/master/Stuff%2B_College_TM.ipynb\" target=\"_parent\"><img src=\"https://colab.research.google.com/assets/colab-badge.svg\" alt=\"Open In Colab\"/></a>"
      ]
    },
    {
      "cell_type": "code",
      "execution_count": null,
      "metadata": {
        "id": "KRWqtUfEFkYp"
      },
      "outputs": [],
      "source": [
        "##importing Basic libraries\n",
        "import pandas as pd\n",
        "import pickle\n",
        "from pandas import DataFrame, Series\n",
        "from sklearn.ensemble import RandomForestClassifier,RandomForestRegressor\n",
        "import numpy as np\n",
        "import seaborn as sns\n",
        "import statsmodels.api as sm\n",
        "from sklearn import linear_model, naive_bayes\n",
        "from sklearn.datasets import make_regression\n",
        "from sklearn.model_selection import train_test_split, cross_val_score\n",
        "from sklearn.naive_bayes import GaussianNB\n",
        "from sklearn.naive_bayes import MultinomialNB\n",
        "from sklearn.metrics import confusion_matrix\n",
        "from sklearn.tree import DecisionTreeRegressor\n",
        "from sklearn import svm\n",
        "import bokeh as bk\n",
        "from matplotlib import pyplot\n",
        "from statsmodels.stats.outliers_influence import variance_inflation_factor\n",
        "import matplotlib.pyplot as plt\n",
        "from matplotlib import style\n",
        "from matplotlib import pyplot\n",
        "from sklearn.metrics import mean_squared_error,r2_score\n",
        "import plotly\n",
        "import chart_studio.plotly as py\n",
        "from chart_studio.plotly import plot, iplot\n",
        "from plotly.offline import download_plotlyjs, init_notebook_mode, plot, iplot\n",
        "import plotly.graph_objects as go\n",
        "import xgboost as xgb\n",
        "from xgboost import XGBRegressor, XGBClassifier\n",
        "import pybaseball as pyb\n",
        "from pybaseball import statcast\n",
        "from pybaseball import statcast_pitcher\n",
        "from pybaseball import statcast_batter\n",
        "from pybaseball import statcast_pitcher_exitvelo_barrels\n",
        "from pybaseball import statcast_batter_exitvelo_barrels\n",
        "from pybaseball import statcast_batter_expected_stats\n",
        "from pybaseball import statcast_pitcher_expected_stats\n",
        "from sklearn.preprocessing import StandardScaler\n",
        "from sklearn.model_selection import train_test_split\n",
        "import tensorflow as tf\n",
        "from sklearn.preprocessing import StandardScaler\n",
        "from tensorflow.keras.models import Sequential\n",
        "from tensorflow.keras.layers import Dense\n",
        "from tensorflow.keras.optimizers import Adam\n",
        "import pwlf as pwlf\n",
        "#import matplotlib.backends\n",
        "import matplotlib as mpl\n",
        "import joblib\n",
        "import pickle as pkl"
      ]
    },
    {
      "cell_type": "code",
      "execution_count": null,
      "metadata": {
        "id": "aDyUmpqGFkYt"
      },
      "outputs": [],
      "source": [
        "df3 = pd.read_csv(\"/Users/johndavis/Desktop/Desktop_2/College_Updated_5_24TH.csv\",low_memory=False)"
      ]
    },
    {
      "cell_type": "code",
      "execution_count": null,
      "metadata": {
        "id": "cT0WrLbLFkYu"
      },
      "outputs": [],
      "source": [
        "#combine"
      ]
    },
    {
      "cell_type": "code",
      "execution_count": null,
      "metadata": {
        "id": "UgPhrhfxFkYu"
      },
      "outputs": [],
      "source": [
        "df4 = pd.read_csv(\"/Users/johndavis/Desktop/2024_NCAA/Full_Database/NCAA_05_20.csv\",low_memory=False)\n"
      ]
    },
    {
      "cell_type": "code",
      "execution_count": null,
      "metadata": {
        "id": "K4gNANlTFkYu"
      },
      "outputs": [],
      "source": [
        "df4.drop_duplicates()"
      ]
    },
    {
      "cell_type": "code",
      "execution_count": null,
      "metadata": {
        "id": "5YjmT-ehFkYv"
      },
      "outputs": [],
      "source": [
        "#Create a new dataframe with only the columns we want for Analysis\n",
        "dft = df3[['Pitcher','PitcherTeam','PitcherThrows','TaggedPitchType','Tilt','PitchCall','PlayResult','RelSpeed','SpinRate','RelHeight','RelSide','Extension','InducedVertBreak', 'HorzBreak','PlateLocHeight','PlateLocSide']]"
      ]
    },
    {
      "cell_type": "code",
      "execution_count": null,
      "metadata": {
        "id": "Qx4IVQCEFkYv"
      },
      "outputs": [],
      "source": [
        "#Create a new dataframe with only the columns we want for Analysis\n",
        "dfp = df4[['Date','Pitcher','PitcherTeam','TaggedPitchType','PitchCall','PlayResult','RelSpeed','SpinRate','RelHeight','RelSide','Extension','InducedVertBreak', 'HorzBreak','PlateLocHeight','PlateLocSide']]"
      ]
    },
    {
      "cell_type": "code",
      "execution_count": null,
      "metadata": {
        "id": "pMK8pU6LFkYv"
      },
      "outputs": [],
      "source": [
        "#fastballs = 'Fastball', 'Sinker', 'TwoSeamFastBall', 'FourSeamFastBall', 'OneSeamFastBall'\n",
        "dfb2 = dft[dft.TaggedPitchType.isin(['Fastball', 'Sinker', 'TwoSeamFastBall', 'FourSeamFastBall', 'OneSeamFastBall'])]\n",
        "#sliders = 'Slider', 'Cutter'\n",
        "dsl2 = dft[dft.TaggedPitchType.isin(['Slider', 'Cutter'])]\n",
        "#curveballs = 'Curveball', 'KnuckleCurve'\n",
        "dcb2 = dft[dft.TaggedPitchType.isin(['Curveball', 'KnuckleCurve'])]\n",
        "#changeups = 'Changeup', 'Splitter', 'Forkball', 'Screwball'\n",
        "dch2 = dft[dft.TaggedPitchType.isin(['ChangeUp'])]\n",
        "#coefficients = 'Eephus', 'Knuckleball', 'Pitch Out', 'Screwball', 'Forkball', 'Splitter', 'Intentional Ball', 'Fastball (2-seam)', 'Fastball (4-seam)', 'Fastball (sinker)', 'Fastball (cut)', 'Slider', 'Curveball', 'Changeup', 'Split Finger', 'Knuckle Curve', 'Unknown'\n"
      ]
    },
    {
      "cell_type": "code",
      "execution_count": null,
      "metadata": {
        "id": "mHvrxb9kFkYv"
      },
      "outputs": [],
      "source": [
        "#fastballs = 'Fastball', 'Sinker', 'TwoSeamFastBall', 'FourSeamFastBall', 'OneSeamFastBall'\n",
        "dfb3 = dfp[dfp.TaggedPitchType.isin(['Fastball', 'Sinker', 'TwoSeamFastBall', 'FourSeamFastBall', 'OneSeamFastBall'])]\n",
        "#sliders = 'Slider', 'Cutter'\n",
        "dsl3 = dfp[dfp.TaggedPitchType.isin(['Slider', 'Cutter'])]\n",
        "#curveballs = 'Curveball', 'KnuckleCurve'\n",
        "dcb3 = dfp[dfp.TaggedPitchType.isin(['Curveball', 'KnuckleCurve'])]\n",
        "#changeups = 'Changeup', 'Splitter', 'Forkball', 'Screwball'\n",
        "dch3 = dfp[dfp.TaggedPitchType.isin(['ChangeUp','Splitter'])]"
      ]
    },
    {
      "cell_type": "code",
      "execution_count": null,
      "metadata": {
        "id": "ejH7nh6jFkYw"
      },
      "outputs": [],
      "source": [
        "#create a new column called ABS_Horizontal with the absolute value of HorzBreak  in dfb2\n",
        "dfb2['ABS_Horizontal'] = abs(dfb2['HorzBreak'])\n",
        "dsl2['ABS_Horizontal'] = abs(dsl2['HorzBreak'])\n",
        "dcb2['ABS_Horizontal'] = abs(dcb2['HorzBreak'])\n",
        "dch2['ABS_Horizontal'] = abs(dch2['HorzBreak'])\n",
        "#create a new column called ABS_relside with the absolute value of RelSide in dfb2\n",
        "dfb2['ABS_RelSide'] = abs(dfb2['RelSide'])\n",
        "dsl2['ABS_RelSide'] = abs(dsl2['RelSide'])\n",
        "dcb2['ABS_RelSide'] = abs(dcb2['RelSide'])\n",
        "dch2['ABS_RelSide'] = abs(dch2['RelSide'])\n",
        "#create a new column called differential break which is the absolute value of InducedVertBreak - ABS_Horizontal\n",
        "dfb2['differential_break'] = abs(dfb2['InducedVertBreak'] - dfb2['ABS_Horizontal'])\n",
        "dsl2['differential_break'] = abs(dsl2['InducedVertBreak'] - dsl2['ABS_Horizontal'])\n",
        "dcb2['differential_break'] = abs(dcb2['InducedVertBreak'] - dcb2['ABS_Horizontal'])\n",
        "dch2['differential_break'] = abs(dch2['InducedVertBreak'] - dch2['ABS_Horizontal'])\n"
      ]
    },
    {
      "cell_type": "code",
      "execution_count": null,
      "metadata": {
        "id": "o-_HpMv_FkYw"
      },
      "outputs": [],
      "source": [
        "#create a new column called ABS_Horizontal with the absolute value of HorzBreak  in dfb2\n",
        "dfb3['ABS_Horizontal'] = abs(dfb3['HorzBreak'])\n",
        "dsl3['ABS_Horizontal'] = abs(dsl3['HorzBreak'])\n",
        "dcb3['ABS_Horizontal'] = abs(dcb3['HorzBreak'])\n",
        "dch3['ABS_Horizontal'] = abs(dch3['HorzBreak'])\n",
        "#create a new column called ABS_relside with the absolute value of RelSide in dfb2\n",
        "dfb3['ABS_RelSide'] = abs(dfb3['RelSide'])\n",
        "dsl3['ABS_RelSide'] = abs(dsl3['RelSide'])\n",
        "dcb3['ABS_RelSide'] = abs(dcb3['RelSide'])\n",
        "dch3['ABS_RelSide'] = abs(dch3['RelSide'])\n",
        "#create a new column called differential break which is the absolute value of InducedVertBreak - ABS_Horizontal\n",
        "dfb3['differential_break'] = abs(dfb3['InducedVertBreak'] - dfb3['ABS_Horizontal'])\n",
        "dsl3['differential_break'] = abs(dsl3['InducedVertBreak'] - dsl3['ABS_Horizontal'])\n",
        "dcb3['differential_break'] = abs(dcb3['InducedVertBreak'] - dcb3['ABS_Horizontal'])\n",
        "dch3['differential_break'] = abs(dch3['InducedVertBreak'] - dch3['ABS_Horizontal'])\n"
      ]
    },
    {
      "cell_type": "code",
      "execution_count": null,
      "metadata": {
        "id": "OuNFiBvsFkYw"
      },
      "outputs": [],
      "source": [
        "#delete all rows with nan values\n",
        "dfb2 = dfb2.dropna()\n",
        "dsl2 = dsl2.dropna()\n",
        "dcb2 = dcb2.dropna()\n",
        "dch2 = dch2.dropna()\n"
      ]
    },
    {
      "cell_type": "code",
      "execution_count": null,
      "metadata": {
        "id": "QAYjzmF7FkYx"
      },
      "outputs": [],
      "source": [
        "#delete all rows with nan values\n",
        "dfb3 = dfb3.dropna()\n",
        "dsl3 = dsl3.dropna()\n",
        "dcb3 = dcb3.dropna()\n",
        "dch3 = dch3.dropna()"
      ]
    },
    {
      "cell_type": "code",
      "execution_count": null,
      "metadata": {
        "id": "dm-x_gotFkYx"
      },
      "outputs": [],
      "source": [
        "#reset index\n",
        "dfb2 = dfb2.reset_index(drop=True)\n",
        "dsl2 = dsl2.reset_index(drop=True)\n",
        "dcb2 = dcb2.reset_index(drop=True)\n",
        "dch2 = dch2.reset_index(drop=True)"
      ]
    },
    {
      "cell_type": "code",
      "execution_count": null,
      "metadata": {
        "id": "bGUSCjn9FkYx"
      },
      "outputs": [],
      "source": [
        "#reset index\n",
        "dfb3 = dfb3.reset_index(drop=True)\n",
        "dsl3 = dsl3.reset_index(drop=True)\n",
        "dcb3 = dcb3.reset_index(drop=True)\n",
        "dch3 = dch3.reset_index(drop=True)"
      ]
    },
    {
      "cell_type": "code",
      "execution_count": null,
      "metadata": {
        "id": "CKNUZdoIFkYx"
      },
      "outputs": [],
      "source": [
        "#PitchCall unique values\n",
        "dft['PitchCall'].unique()"
      ]
    },
    {
      "cell_type": "code",
      "execution_count": null,
      "metadata": {
        "id": "ScjlFIIRFkYy"
      },
      "outputs": [],
      "source": [
        "#PitchCall unique values\n",
        "dfp['PitchCall'].unique()"
      ]
    },
    {
      "cell_type": "code",
      "execution_count": null,
      "metadata": {
        "id": "LR1Zx7zCFkYy"
      },
      "outputs": [],
      "source": [
        "#change 'SwinginStrike', 'StriekSwinging' in PitchCall to 'StrikeSwinging'\n",
        "dft['PitchCall'] = dft['PitchCall'].replace(['SwinginStrike', 'StriekSwinging','StrkeSwinging ','StriekC'], 'StrikeSwinging')"
      ]
    },
    {
      "cell_type": "code",
      "execution_count": null,
      "metadata": {
        "id": "ZG98pd8kFkYy"
      },
      "outputs": [],
      "source": [
        "#new dataframe with only PitchCall StrikeSwinging, InPlay, FoulBall and call it df_Swing\n",
        "df_Swing = dft[(dft['PitchCall'] == 'StrikeSwinging') | (dft['PitchCall'] == 'InPlay') | (dft['PitchCall'] == 'FoulBall') | (dft['PitchCall'] == 'FoulBallNotFieldable')| (dft['PitchCall'] == 'FoulBallFieldable')]"
      ]
    },
    {
      "cell_type": "code",
      "execution_count": null,
      "metadata": {
        "id": "Wf41FzgVFkYy"
      },
      "outputs": [],
      "source": [
        "#create a dummy variable for PitchCall with StrikeSwinging = 1 and InPlay, FoulBall = 0\n",
        "df_Swing['Whiff'] = df_Swing['PitchCall'].replace(['StrikeSwinging'], 1)\n",
        "df_Swing['Whiff'] = df_Swing['PitchCall'].replace(['InPlay', 'FoulBall','FoulBallFieldable','FoulBallNotFieldable'], 0)"
      ]
    },
    {
      "cell_type": "code",
      "execution_count": null,
      "metadata": {
        "id": "OggwXXLEFkYy"
      },
      "outputs": [],
      "source": [
        "#replace strike swinging with 1 and inplay, foulball with 0\n",
        "df_Swing['Whiff'] = df_Swing['Whiff'].replace(['StrikeSwinging'], 1)"
      ]
    },
    {
      "cell_type": "code",
      "execution_count": null,
      "metadata": {
        "id": "Gmk0WYADFkYz"
      },
      "outputs": [],
      "source": [
        "#create a new column called ABS_Horizontal with the absolute value of HorzBreak\n",
        "df_Swing['ABS_Horizontal'] = abs(df_Swing['HorzBreak'])\n",
        "#create a new column called ABS_RelSide with the absolute value of RelSide\n",
        "df_Swing['ABS_RelSide'] = abs(df_Swing['RelSide'])"
      ]
    },
    {
      "cell_type": "code",
      "execution_count": null,
      "metadata": {
        "id": "RfQA_RdAFkYz"
      },
      "outputs": [],
      "source": [
        "#create a new column called differential break which is the absolute value of InducedVertBreak - ABS_Horizontal\n",
        "df_Swing['differential_break'] = abs(df_Swing['InducedVertBreak'] - df_Swing['ABS_Horizontal'])"
      ]
    },
    {
      "cell_type": "code",
      "execution_count": null,
      "metadata": {
        "id": "vL923m3MFkYz"
      },
      "outputs": [],
      "source": [
        "df_Swing.columns"
      ]
    },
    {
      "cell_type": "code",
      "execution_count": null,
      "metadata": {
        "id": "k0JtV2GRFkYz"
      },
      "outputs": [],
      "source": [
        "#taggedpitchtype unique values\n",
        "df_Swing['TaggedPitchType'].unique()"
      ]
    },
    {
      "cell_type": "code",
      "execution_count": null,
      "metadata": {
        "id": "3uhCOnyqFkYz"
      },
      "outputs": [],
      "source": [
        "#remove any row with Nan for any of the columns\n",
        "df_Swing = df_Swing.dropna()\n",
        "#reset the index\n",
        "df_Swing = df_Swing.reset_index(drop=True)"
      ]
    },
    {
      "cell_type": "code",
      "execution_count": null,
      "metadata": {
        "id": "S24DfXgbFkYz"
      },
      "outputs": [],
      "source": [
        "#seperate dataframes for each pitch type\n",
        "#fastballs = 'Fastball', 'Sinker', 'TwoSeamFastBall', 'FourSeamFastBall', 'OneSeamFastBall'\n",
        "df_Fastball = df_Swing[(df_Swing['TaggedPitchType'] == 'Fastball') | (df_Swing['TaggedPitchType'] == 'Sinker') | (df_Swing['TaggedPitchType'] == 'TwoSeamFastBall') | (df_Swing['TaggedPitchType'] == 'FourSeamFastBall') | (df_Swing['TaggedPitchType'] == 'OneSeamFastBall')]\n",
        "df_Fastball = df_Fastball.reset_index(drop=True)"
      ]
    },
    {
      "cell_type": "code",
      "execution_count": null,
      "metadata": {
        "id": "U2BhhzYqFkYz"
      },
      "outputs": [],
      "source": [
        "#curveballs = 'Curveball', 'KnuckleCurve'\n",
        "df_Curveball = df_Swing[(df_Swing['TaggedPitchType'] == 'Curveball') | (df_Swing['TaggedPitchType'] == 'KnuckleCurve')]\n",
        "df_Curveball = df_Curveball.reset_index(drop=True)"
      ]
    },
    {
      "cell_type": "code",
      "execution_count": null,
      "metadata": {
        "id": "1T9u7woOFkY0"
      },
      "outputs": [],
      "source": [
        "#df_Slider = 'Slider'\n",
        "df_Slider = df_Swing[(df_Swing['TaggedPitchType'] == 'Slider')]\n",
        "df_Slider = df_Slider.reset_index(drop=True)"
      ]
    },
    {
      "cell_type": "code",
      "execution_count": null,
      "metadata": {
        "id": "0mlfApJYFkY0"
      },
      "outputs": [],
      "source": [
        "#df_Changeup = 'Changeup'\n",
        "df_Changeup = df_Swing[(df_Swing['TaggedPitchType'] == 'ChangeUp')]\n",
        "df_Changeup = df_Changeup.reset_index(drop=True)"
      ]
    },
    {
      "cell_type": "code",
      "execution_count": null,
      "metadata": {
        "id": "FT09x7pqFkY0"
      },
      "outputs": [],
      "source": [
        "df_Swing.columns"
      ]
    },
    {
      "cell_type": "code",
      "execution_count": null,
      "metadata": {
        "id": "QjZGq-ZyFkY0"
      },
      "outputs": [],
      "source": [
        "#create the FB expected whiff rate\n",
        "X = df_Fastball[['RelSpeed', 'SpinRate','differential_break','RelHeight', 'ABS_RelSide', 'Extension']]\n",
        "y = df_Fastball['Whiff']"
      ]
    },
    {
      "cell_type": "code",
      "execution_count": null,
      "metadata": {
        "id": "MNmooMCHFkY1"
      },
      "outputs": [],
      "source": [
        "#create the CB expected whiff rate\n",
        "X1 = df_Curveball[['RelSpeed', 'SpinRate', 'InducedVertBreak', 'ABS_Horizontal','RelHeight', 'ABS_RelSide', 'Extension']]\n",
        "y1 = df_Curveball['Whiff']"
      ]
    },
    {
      "cell_type": "code",
      "execution_count": null,
      "metadata": {
        "id": "SdsZq6bdFkY1"
      },
      "outputs": [],
      "source": [
        "#create the SL expected whiff rate\n",
        "X2 = df_Slider[['RelSpeed', 'SpinRate', 'InducedVertBreak', 'ABS_Horizontal','RelHeight', 'ABS_RelSide', 'Extension']]\n",
        "y2 = df_Slider['Whiff']"
      ]
    },
    {
      "cell_type": "code",
      "execution_count": null,
      "metadata": {
        "id": "Wg5YW5bXFkY1"
      },
      "outputs": [],
      "source": [
        "#create the CH expected whiff rate\n",
        "X3 = df_Changeup[['RelSpeed', 'SpinRate', 'InducedVertBreak', 'ABS_Horizontal','RelHeight', 'ABS_RelSide', 'Extension']]\n",
        "y3 = df_Changeup['Whiff']"
      ]
    },
    {
      "cell_type": "code",
      "execution_count": null,
      "metadata": {
        "id": "eCPuQl11FkY2"
      },
      "outputs": [],
      "source": [
        "#split the data into training and testing sets\n",
        "X_train, X_test, y_train, y_test = train_test_split(X, y, test_size=0.25, random_state=101)\n",
        "\n",
        "X1_train, X1_test, y1_train, y1_test = train_test_split(X1, y1, test_size=0.25, random_state=101)\n",
        "\n",
        "X2_train, X2_test, y2_train, y2_test = train_test_split(X2, y2, test_size=0.25, random_state=101)\n",
        "\n",
        "X3_train, X3_test, y3_train, y3_test = train_test_split(X3, y3, test_size=0.25, random_state=101)\n",
        "\n"
      ]
    },
    {
      "cell_type": "code",
      "execution_count": null,
      "metadata": {
        "id": "KD2igIp6FkY2"
      },
      "outputs": [],
      "source": [
        "def train_model(X, y):\n",
        "    X_train, X_test, y_train, y_test = train_test_split(X, y, test_size=0.2, random_state=42)\n",
        "\n",
        "    # Create the neural network model\n",
        "    model = Sequential()\n",
        "    model.add(Dense(64, input_dim=X.shape[1], activation='relu'))\n",
        "    model.add(Dense(32, activation='relu'))\n",
        "    model.add(Dense(1, activation='sigmoid'))\n",
        "\n",
        "    # Compile the model\n",
        "    model.compile(loss='binary_crossentropy', optimizer=Adam(learning_rate=0.001), metrics=['accuracy'])\n",
        "\n",
        "    # Train the model\n",
        "    model.fit(X_train, y_train, validation_data=(X_test, y_test), epochs=50, batch_size=32)\n",
        "\n",
        "    return model"
      ]
    },
    {
      "cell_type": "code",
      "execution_count": null,
      "metadata": {
        "id": "hJowcScmFkY2"
      },
      "outputs": [],
      "source": [
        "y_train"
      ]
    },
    {
      "cell_type": "code",
      "execution_count": null,
      "metadata": {
        "id": "zJgwkakLFkY2"
      },
      "outputs": [],
      "source": [
        "#xgboost for fastball\n",
        "xgb_model = XGBClassifier()\n",
        "xgb_model.fit(X_train, y_train)"
      ]
    },
    {
      "cell_type": "code",
      "execution_count": null,
      "metadata": {
        "id": "QBwaJXilFkY3"
      },
      "outputs": [],
      "source": [
        "#random forest for fastball\n",
        "rfc = RandomForestClassifier(n_estimators=100)\n",
        "rfc.fit(X_train, y_train)"
      ]
    },
    {
      "cell_type": "code",
      "execution_count": null,
      "metadata": {
        "id": "1kFoe948FkY3"
      },
      "outputs": [],
      "source": [
        "#decision tree for fastball\n",
        "dtree = DecisionTreeRegressor()\n",
        "dtree.fit(X_train, y_train)\n"
      ]
    },
    {
      "cell_type": "code",
      "execution_count": null,
      "metadata": {
        "id": "gA5U6inoFkY3"
      },
      "outputs": [],
      "source": [
        "#xgboost for curveball\n",
        "xgb_model1 = XGBClassifier()\n",
        "xgb_model1.fit(X1_train, y1_train)"
      ]
    },
    {
      "cell_type": "code",
      "execution_count": null,
      "metadata": {
        "id": "M5wWhBlvFkY4"
      },
      "outputs": [],
      "source": [
        "#random forest for curveball\n",
        "rfc1 = RandomForestClassifier(n_estimators=100)\n",
        "rfc1.fit(X1_train, y1_train)"
      ]
    },
    {
      "cell_type": "code",
      "execution_count": null,
      "metadata": {
        "id": "MkoX4MaoFkY4"
      },
      "outputs": [],
      "source": [
        "#xgboost for slider\n",
        "xgb_model2 = XGBClassifier()\n",
        "xgb_model2.fit(X2_train, y2_train)"
      ]
    },
    {
      "cell_type": "code",
      "execution_count": null,
      "metadata": {
        "id": "4iY47J07FkY5"
      },
      "outputs": [],
      "source": [
        "#random forest for slider\n",
        "rfc2 = RandomForestClassifier(n_estimators=100)\n",
        "rfc2.fit(X2_train, y2_train)\n"
      ]
    },
    {
      "cell_type": "code",
      "execution_count": null,
      "metadata": {
        "id": "rH2XSTqGFkY5"
      },
      "outputs": [],
      "source": [
        "#xgboost for changeup\n",
        "xgb_model3 = XGBClassifier()\n",
        "xgb_model3.fit(X3_train, y3_train)"
      ]
    },
    {
      "cell_type": "code",
      "execution_count": null,
      "metadata": {
        "id": "KYjjcosVFkY5"
      },
      "outputs": [],
      "source": [
        "#random forest for changeup\n",
        "rfc3 = RandomForestClassifier(n_estimators=100)\n",
        "rfc3.fit(X3_train, y3_train)"
      ]
    },
    {
      "cell_type": "code",
      "execution_count": null,
      "metadata": {
        "id": "r7LBRyhVFkY5"
      },
      "outputs": [],
      "source": [
        "#find rmse for fastball\n",
        "predictions = xgb_model.predict(X_test)\n",
        "print('XGBoost Fastball RMSE:', np.sqrt(mean_squared_error(y_test, predictions)))"
      ]
    },
    {
      "cell_type": "code",
      "execution_count": null,
      "metadata": {
        "id": "WIqbJjY5FkY6"
      },
      "outputs": [],
      "source": [
        "#find rmse for fastball\n",
        "predictions = rfc.predict(X_test)\n",
        "print('Random Forest Fastball RMSE:', np.sqrt(mean_squared_error(y_test, predictions)))"
      ]
    },
    {
      "cell_type": "code",
      "execution_count": null,
      "metadata": {
        "id": "VT-rmb1PFkY6"
      },
      "outputs": [],
      "source": [
        "#create a new column in the dfb2 dataframe called xWhiff_xg and set it equal to the predicted probability of a whiff as predicted by the xgboost model\n",
        "dfb2['xWhiff_xg'] = xgb_model.predict_proba(dfb2[['RelSpeed', 'SpinRate', 'differential_break', 'RelHeight', 'ABS_RelSide', 'Extension']])[:,1]"
      ]
    },
    {
      "cell_type": "code",
      "execution_count": null,
      "metadata": {
        "id": "A_tLBJOdFkY6"
      },
      "outputs": [],
      "source": [
        "#create a new column in the dfb2 dataframe called xWhiff_xg and set it equal to the predicted probability of a whiff as predicted by the xgboost model\n",
        "dcb2['xWhiff_xg'] = xgb_model1.predict_proba(dcb2[['RelSpeed', 'SpinRate', 'InducedVertBreak', 'ABS_Horizontal','RelHeight', 'ABS_RelSide', 'Extension']])[:,1]"
      ]
    },
    {
      "cell_type": "code",
      "execution_count": null,
      "metadata": {
        "id": "ybvOJnbhFkY6"
      },
      "outputs": [],
      "source": [
        "#create a new column in the dsl2 dataframe called xWhiff and use the model tp predict the expected whiff rate given the same variables\n",
        "dsl2['xWhiff_xg'] = xgb_model2.predict_proba(dsl2[['RelSpeed', 'SpinRate', 'InducedVertBreak', 'ABS_Horizontal','RelHeight', 'ABS_RelSide', 'Extension']])[:,1]"
      ]
    },
    {
      "cell_type": "code",
      "execution_count": null,
      "metadata": {
        "id": "wMfgEP2RFkY6"
      },
      "outputs": [],
      "source": [
        "#create a new column in the dch2 dataframe called xWhiff and use the model tp predict the expected whiff rate given the same variables\n",
        "dch2['xWhiff_xg'] = xgb_model3.predict_proba(dch2[['RelSpeed', 'SpinRate', 'InducedVertBreak', 'ABS_Horizontal','RelHeight', 'ABS_RelSide', 'Extension']])[:,1]"
      ]
    },
    {
      "cell_type": "code",
      "execution_count": null,
      "metadata": {
        "id": "SsHcPzppFkY6"
      },
      "outputs": [],
      "source": [
        "#create a new column in the dfb2 dataframe called xWhiff_rf and set it equal to the predicted probability of a whiff as predicted by the random forest model\n",
        "dfb2['xWhiff_rf'] = rfc.predict_proba(dfb2[['RelSpeed', 'SpinRate', 'differential_break', 'RelHeight', 'ABS_RelSide', 'Extension']])[:,1]\n"
      ]
    },
    {
      "cell_type": "code",
      "execution_count": null,
      "metadata": {
        "id": "WuKJsIrlFkY6"
      },
      "outputs": [],
      "source": [
        "#create a new column in the dfb2 dataframe called xWhiff_rf and set it equal to the predicted probability of a whiff as predicted by the random forest model\n",
        "dcb2['xWhiff_rf'] = rfc1.predict_proba(dcb2[['RelSpeed', 'SpinRate', 'InducedVertBreak', 'ABS_Horizontal','RelHeight', 'ABS_RelSide', 'Extension']])[:,1]"
      ]
    },
    {
      "cell_type": "code",
      "execution_count": null,
      "metadata": {
        "id": "tucKrpMAFkY6"
      },
      "outputs": [],
      "source": [
        "#create a new column in the dsl2 dataframe called xWhiff and use the model tp predict the expected whiff rate given the same variables\n",
        "dsl2['xWhiff_rf'] = rfc2.predict_proba(dsl2[['RelSpeed', 'SpinRate', 'InducedVertBreak', 'ABS_Horizontal','RelHeight', 'ABS_RelSide', 'Extension']])[:,1]"
      ]
    },
    {
      "cell_type": "code",
      "execution_count": null,
      "metadata": {
        "id": "oTb97M1CFkY7"
      },
      "outputs": [],
      "source": [
        "#create a new column in the dch2 dataframe called xWhiff and use the model tp predict the expected whiff rate given the same variables\n",
        "dch2['xWhiff_rf'] = rfc3.predict_proba(dch2[['RelSpeed', 'SpinRate', 'InducedVertBreak', 'ABS_Horizontal','RelHeight', 'ABS_RelSide', 'Extension']])[:,1]"
      ]
    },
    {
      "cell_type": "code",
      "execution_count": null,
      "metadata": {
        "id": "0pMZnlGpFkY7"
      },
      "outputs": [],
      "source": [
        "#find mean of xWhiff_xg for fastball\n",
        "dch2['xWhiff_xg'].mean()"
      ]
    },
    {
      "cell_type": "code",
      "execution_count": null,
      "metadata": {
        "id": "OLcRAReRFkY7"
      },
      "outputs": [],
      "source": [
        "#take the average of the Three models to get the final expected whiff rate\n",
        "dfb2['xWhiff'] = (dfb2['xWhiff_xg'] + dfb2['xWhiff_rf'])/2\n",
        "dcb2['xWhiff'] = (dcb2['xWhiff_xg'] + dcb2['xWhiff_rf'])/2\n",
        "dsl2['xWhiff'] = (dsl2['xWhiff_xg'] + dsl2['xWhiff_rf'])/2\n",
        "dch2['xWhiff'] = (dch2['xWhiff_xg'] + dch2['xWhiff_rf'])/2\n",
        "\n",
        "dfb2['Stuff+'] = (dfb2['xWhiff'] / dfb2['xWhiff'].mean()) * 100\n",
        "dcb2['Stuff+'] = (dcb2['xWhiff'] / dcb2['xWhiff'].mean()) * 100\n",
        "dsl2['Stuff+'] = (dsl2['xWhiff'] / dsl2['xWhiff'].mean()) * 100\n",
        "dch2['Stuff+'] = (dch2['xWhiff'] / dch2['xWhiff'].mean()) * 100"
      ]
    },
    {
      "cell_type": "code",
      "execution_count": null,
      "metadata": {
        "id": "aIkBvsmKFkY7"
      },
      "outputs": [],
      "source": [
        "#combine the dataframes\n",
        "df_college_total = pd.concat([dfb2, dsl2, dcb2, dch2], axis=0)\n"
      ]
    },
    {
      "cell_type": "code",
      "execution_count": null,
      "metadata": {
        "id": "kO-HocqUFkY7"
      },
      "outputs": [],
      "source": [
        "# group by Pitcher and TagegedPitchType df_college_total.groupby('Pitcher','TaggedPitchType')['RelSpeed', 'InducedVertBreak', 'HorzBreak', 'Stuff+'].mean().reset_index()\n",
        "df_college_avg = df_college_total.groupby(['Pitcher','TaggedPitchType'])['RelSpeed', 'InducedVertBreak', 'HorzBreak', 'Stuff+'].mean().reset_index()"
      ]
    },
    {
      "cell_type": "code",
      "execution_count": null,
      "metadata": {
        "id": "_MHZCIPTFkY7"
      },
      "outputs": [],
      "source": [
        "#import pickle\n",
        "import pickle"
      ]
    },
    {
      "cell_type": "code",
      "execution_count": null,
      "metadata": {
        "id": "PC4Dz21kFkY7"
      },
      "outputs": [],
      "source": [
        "   #save each of the models to desktop /Users/johndavis/Desktop/\n",
        "pickle.dump(xgb_model, open('/Users/johndavis/Desktop/xgb_modelfb.sav', 'wb'))\n",
        "pickle.dump(xgb_model1, open('/Users/johndavis/Desktop/xgb_modelcb.sav', 'wb'))\n",
        "pickle.dump(xgb_model2, open('/Users/johndavis/Desktop/xgb_modelsl.sav', 'wb'))\n",
        "pickle.dump(xgb_model3, open('/Users/johndavis/Desktop/xgb_modelch.sav', 'wb'))\n",
        "pickle.dump(rfc, open('/Users/johndavis/Desktop/rfc_modelfb.sav', 'wb'))\n",
        "pickle.dump(rfc1, open('/Users/johndavis/Desktop/rfc_modelcb.sav', 'wb'))\n",
        "pickle.dump(rfc2, open('/Users/johndavis/Desktop/rfc_modelsl.sav', 'wb'))\n",
        "pickle.dump(rfc3, open('/Users/johndavis/Desktop/rfc_modelch.sav', 'wb'))"
      ]
    },
    {
      "cell_type": "code",
      "execution_count": null,
      "metadata": {
        "id": "CxW8T5ISFkY7"
      },
      "outputs": [],
      "source": [
        "  rf_models = {\n",
        "    'Fastball': pickle.load(open('/Users/johndavis/Desktop/rfc_modelfb.sav', 'rb')),\n",
        "    'Sinker': pickle.load(open('/Users/johndavis/Desktop/rfc_modelfb.sav', 'rb')),\n",
        "    'Curveball': pickle.load(open('/Users/johndavis/Desktop/rfc_modelcb.sav', 'rb')),\n",
        "    'Slider': pickle.load(open('/Users/johndavis/Desktop/rfc_modelsl.sav', 'rb')),\n",
        "    'Cutter': pickle.load(open('/Users/johndavis/Desktop/rfc_modelsl.sav', 'rb')),\n",
        "    'ChangeUp': pickle.load(open('/Users/johndavis/Desktop/rfc_modelch.sav', 'rb'))\n",
        "    }"
      ]
    },
    {
      "cell_type": "code",
      "execution_count": null,
      "metadata": {
        "id": "YqWTfxgbFkY7"
      },
      "outputs": [],
      "source": [
        "#find the mean of the xWhiff column\n",
        "print (dfb2['xWhiff'].mean())\n",
        "print (dcb2['xWhiff'].mean())\n",
        "print (dsl2['xWhiff'].mean())\n",
        "print (dch2['xWhiff'].mean())\n"
      ]
    },
    {
      "cell_type": "code",
      "execution_count": null,
      "metadata": {
        "id": "N5RGsRnMFkY7"
      },
      "outputs": [],
      "source": []
    },
    {
      "cell_type": "code",
      "execution_count": null,
      "metadata": {
        "id": "N1EpuN89FkY7"
      },
      "outputs": [],
      "source": [
        "#find the mean of the xWhiff column\n",
        "dfb2['xWhiff'].mean()"
      ]
    },
    {
      "cell_type": "code",
      "execution_count": null,
      "metadata": {
        "id": "FqAQ7blHFkY7"
      },
      "outputs": [],
      "source": [
        "#find the mean of the xWhiff column\n",
        "dsl2['xWhiff'].mean()"
      ]
    },
    {
      "cell_type": "code",
      "execution_count": null,
      "metadata": {
        "id": "xYZM0531FkY8"
      },
      "outputs": [],
      "source": [
        "#find the mean of the xWhiff column\n",
        "dch2['xWhiff'].mean()"
      ]
    },
    {
      "cell_type": "code",
      "execution_count": null,
      "metadata": {
        "id": "492E2lk1FkY8"
      },
      "outputs": [],
      "source": [
        "#create a new column in dfb2 called stuff+ which is (xWhiff / mean of xWhiff for dfb2) * 100\n",
        "dfb2['stuff+'] = (dfb2['xWhiff'] / dfb2['xWhiff'].mean()) * 100\n",
        "#create a new column in dcb2 called stuff+ which is (xWhiff / mean of xWhiff for dcb2) * 100\n",
        "dcb2['stuff+'] = (dcb2['xWhiff'] / dcb2['xWhiff'].mean()) * 100\n",
        "#create a new column in dsl2 called stuff+ which is (xWhiff / mean of xWhiff for dsl2) * 100\n",
        "dsl2['stuff+'] = (dsl2['xWhiff'] / dsl2['xWhiff'].mean()) * 100\n",
        "#create a new column in dch2 called stuff+ which is (xWhiff / mean of xWhiff for dch2) * 100\n",
        "dch2['stuff+'] = (dch2['xWhiff'] / dch2['xWhiff'].mean()) * 100"
      ]
    },
    {
      "cell_type": "code",
      "execution_count": null,
      "metadata": {
        "id": "GpgP_ZUSFkY8"
      },
      "outputs": [],
      "source": [
        "#collect the dataframes into one dataframe\n",
        "df_college_total_2022 = pd.concat([dfb2, dsl2, dcb2, dch2], axis=0)"
      ]
    },
    {
      "cell_type": "code",
      "execution_count": null,
      "metadata": {
        "id": "vOPuL6J7FkY8"
      },
      "outputs": [],
      "source": [
        "#groupby Pitcher and Tagged Pitchtype\n",
        "pitch_avg_2022 = df_college_total_2022.groupby(['Pitcher','TaggedPitchType'])['RelSpeed', 'SpinRate', 'RelHeight', 'RelSide', 'Extension', 'InducedVertBreak', 'HorzBreak', 'xWhiff', 'stuff+'].mean().reset_index().sort_values(by='stuff+', ascending=False)"
      ]
    },
    {
      "cell_type": "code",
      "execution_count": null,
      "metadata": {
        "id": "eZqEnYqjFkY8"
      },
      "outputs": [],
      "source": [
        "pitch_avg_2022['Count'] = df_college_total_2022.groupby(['Pitcher','TaggedPitchType'])['RelSpeed'].count().reset_index()['RelSpeed']"
      ]
    },
    {
      "cell_type": "code",
      "execution_count": null,
      "metadata": {
        "id": "NN6NEnKuFkY8"
      },
      "outputs": [],
      "source": [
        "#calulcate the mean of stuff+ for dfb2\n",
        "dfb2['stuff+'].mean()"
      ]
    },
    {
      "cell_type": "code",
      "execution_count": null,
      "metadata": {
        "id": "LEVOMkA5FkY8"
      },
      "outputs": [],
      "source": [
        "#calulcate the mean of stuff+ for dcb2\n",
        "dcb2['stuff+'].mean()"
      ]
    },
    {
      "cell_type": "code",
      "execution_count": null,
      "metadata": {
        "id": "SdySrXXXFkY8"
      },
      "outputs": [],
      "source": [
        "#calulcate the mean of stuff+ for dsl2\n",
        "dsl2['stuff+'].mean()\n"
      ]
    },
    {
      "cell_type": "code",
      "execution_count": null,
      "metadata": {
        "id": "vkso_qrtFkY8"
      },
      "outputs": [],
      "source": [
        "#calulcate the mean of stuff+ for dch2\n",
        "dch2['stuff+'].mean()"
      ]
    },
    {
      "cell_type": "code",
      "execution_count": null,
      "metadata": {
        "id": "UYzvUld8FkY8"
      },
      "outputs": [],
      "source": [
        "##create a new column in the dfb3 dataframe called xWhiff_xg and set it equal to the predicted probability of a whiff as predicted by the xgboost model\n",
        "dfb3['xWhiff_xg'] = xgb_model.predict_proba(dfb3[['RelSpeed', 'SpinRate', 'differential_break', 'RelHeight', 'ABS_RelSide', 'Extension']])[:,1]"
      ]
    },
    {
      "cell_type": "code",
      "execution_count": null,
      "metadata": {
        "id": "fmhfv0LyFkY8"
      },
      "outputs": [],
      "source": [
        "#create a new column in the dcb3 dataframe called xWhiff_xg and set it equal to the predicted probability of a whiff as predicted by the xgboost model\n",
        "dcb3['xWhiff_xg'] = xgb_model1.predict_proba(dcb3[['RelSpeed', 'SpinRate', 'InducedVertBreak', 'ABS_Horizontal','RelHeight', 'ABS_RelSide', 'Extension']])[:,1]"
      ]
    },
    {
      "cell_type": "code",
      "execution_count": null,
      "metadata": {
        "id": "ALKPwuQWFkY9"
      },
      "outputs": [],
      "source": [
        "#create a new column in the dsl3 dataframe called xWhiff_xg and set it equal to the predicted probability of a whiff as predicted by the xgboost model\n",
        "dsl3['xWhiff_xg'] = xgb_model2.predict_proba(dsl3[['RelSpeed', 'SpinRate', 'InducedVertBreak', 'ABS_Horizontal','RelHeight', 'ABS_RelSide', 'Extension']])[:,1]"
      ]
    },
    {
      "cell_type": "code",
      "execution_count": null,
      "metadata": {
        "id": "cDRcKC0dFkY9"
      },
      "outputs": [],
      "source": [
        "#create a new column in the dch3 dataframe called xWhiff_xg and set it equal to the predicted probability of a whiff as predicted by the xgboost model\n",
        "dch3['xWhiff_xg'] = xgb_model3.predict_proba(dch3[['RelSpeed', 'SpinRate', 'InducedVertBreak', 'ABS_Horizontal','RelHeight', 'ABS_RelSide', 'Extension']])[:,1]"
      ]
    },
    {
      "cell_type": "code",
      "execution_count": null,
      "metadata": {
        "id": "4y9ZaS9kFkY9"
      },
      "outputs": [],
      "source": [
        "#create a new column in the dfb3 dataframe called xWhiff_rf and use the model tp predict the expected whiff rate given the same variables\n",
        "dfb3['xWhiff_rf'] = rfc.predict_proba(dfb3[['RelSpeed', 'SpinRate', 'differential_break', 'RelHeight', 'ABS_RelSide', 'Extension']])[:,1]"
      ]
    },
    {
      "cell_type": "code",
      "execution_count": null,
      "metadata": {
        "id": "7txy0Hc-FkY9"
      },
      "outputs": [],
      "source": [
        "#create a new column in the dcb3 dataframe called xWhiff_rf and use the model tp predict the expected whiff rate given the same variables\n",
        "dcb3['xWhiff_rf'] = rfc1.predict_proba(dcb3[['RelSpeed', 'SpinRate', 'InducedVertBreak', 'ABS_Horizontal','RelHeight', 'ABS_RelSide', 'Extension']])[:,1]"
      ]
    },
    {
      "cell_type": "code",
      "execution_count": null,
      "metadata": {
        "id": "Yomu8wBVFkY9"
      },
      "outputs": [],
      "source": [
        "#create a new column in the dsl3 dataframe called xWhiff_rf and use the model tp predict the expected whiff rate given the same variables\n",
        "dsl3['xWhiff_rf'] = rfc2.predict_proba(dsl3[['RelSpeed', 'SpinRate', 'InducedVertBreak', 'ABS_Horizontal','RelHeight', 'ABS_RelSide', 'Extension']])[:,1]"
      ]
    },
    {
      "cell_type": "code",
      "execution_count": null,
      "metadata": {
        "id": "nxsdOIiTFkY9"
      },
      "outputs": [],
      "source": [
        "#create a new column in the dch3 dataframe called xWhiff_rf and use the model tp predict the expected whiff rate given the same variables\n",
        "dch3['xWhiff_rf'] = rfc3.predict_proba(dch3[['RelSpeed', 'SpinRate', 'InducedVertBreak', 'ABS_Horizontal','RelHeight', 'ABS_RelSide', 'Extension']])[:,1]"
      ]
    },
    {
      "cell_type": "code",
      "execution_count": null,
      "metadata": {
        "id": "xO1cxD5zFkY9"
      },
      "outputs": [],
      "source": [
        "#take the average of all dfb3['xWhiff_xg'] dfb3['xWhiff_rf'] dfb3['xWhiff_nn']\n",
        "dfb3['xWhiff'] = (dfb3['xWhiff_xg'] + dfb3['xWhiff_rf']) / 2"
      ]
    },
    {
      "cell_type": "code",
      "execution_count": null,
      "metadata": {
        "id": "SMZMN6N0FkY9"
      },
      "outputs": [],
      "source": [
        "#take the average of all dcb3['xWhiff_xg'] dcb3['xWhiff_rf'] dcb3['xWhiff_nn']\n",
        "dcb3['xWhiff'] = (dcb3['xWhiff_xg'] + dcb3['xWhiff_rf']) / 2"
      ]
    },
    {
      "cell_type": "code",
      "execution_count": null,
      "metadata": {
        "id": "eghJsRdeFkY9"
      },
      "outputs": [],
      "source": [
        "#take the average of all dsl3['xWhiff_xg'] dsl3['xWhiff_rf'] dsl3['xWhiff_nn']\n",
        "dsl3['xWhiff'] = (dsl3['xWhiff_xg'] + dsl3['xWhiff_rf']) / 2"
      ]
    },
    {
      "cell_type": "code",
      "execution_count": null,
      "metadata": {
        "id": "Ffa-oQuiFkY9"
      },
      "outputs": [],
      "source": [
        "#take the average of all dch3['xWhiff_xg'] dch3['xWhiff_rf'] dch3['xWhiff_nn']\n",
        "dch3['xWhiff'] = (dch3['xWhiff_xg'] + dch3['xWhiff_rf']) / 2"
      ]
    },
    {
      "cell_type": "code",
      "execution_count": null,
      "metadata": {
        "id": "N3_yCPzYFkY9"
      },
      "outputs": [],
      "source": [
        "#create a new column in dfb3 called stuff+ which is (xWhiff / mean of xWhiff for dfb2 from above) * 100\n",
        "dfb3['stuff+'] = (dfb3['xWhiff'] / dfb2['xWhiff'].mean()) * 100\n",
        "#create a new column in dcb3 called stuff+ which is (xWhiff / mean of xWhiff for dcb3) * 100\n",
        "dcb3['stuff+'] = (dcb3['xWhiff'] / dcb2['xWhiff'].mean()) * 100\n",
        "#create a new column in dsl3 called stuff+ which is (xWhiff / mean of xWhiff for dsl3) * 100\n",
        "dsl3['stuff+'] = (dsl3['xWhiff'] / dsl2['xWhiff'].mean()) * 100\n",
        "#create a new column in dch3 called stuff+ which is (xWhiff / mean of xWhiff for dch3) * 100\n",
        "dch3['stuff+'] = (dch3['xWhiff'] / dch2['xWhiff'].mean()) * 100\n"
      ]
    },
    {
      "cell_type": "code",
      "execution_count": null,
      "metadata": {
        "id": "PUC3pTgJFkY9"
      },
      "outputs": [],
      "source": [
        "#recombine the dataframes\n",
        "#Cape_Database_4 = pd.concat([dfb3, dcb3, dsl3, dch3])\n",
        "Cape_Database_4 = pd.concat([dfb3, dcb3, dsl3, dch3])\n"
      ]
    },
    {
      "cell_type": "code",
      "execution_count": null,
      "metadata": {
        "id": "pcD8WlfcFkY-"
      },
      "outputs": [],
      "source": [
        "#Cape_Database_4 PitchCall Unique\n",
        "Cape_Database_4['PitchCall'].unique()"
      ]
    },
    {
      "cell_type": "code",
      "execution_count": null,
      "metadata": {
        "id": "2wacomhdFkY-"
      },
      "outputs": [],
      "source": [
        "# create boolean for strike PitchCall == 'StrikeCalled', 'FoulBallNotFieldable', 'StrikeSwinging', 'InPlay', 'HitByPitch', 'FoulBallFieldable','FoulBall', 'Undefined','StrkeSwinging ' then 1 if anything else 0\n",
        "Cape_Database_4['Strike_Boolean'] = Cape_Database_4['PitchCall'].replace(['StrikeCalled', 'FoulBallNotFieldable', 'StrikeSwinging', 'InPlay', 'HitByPitch', 'FoulBallFieldable','FoulBall', 'Undefined','StrkeSwinging '], 1)\n",
        "#if Strike_Boolean not equal to 1 replace with 0\n",
        "Cape_Database_4['Strike_Boolean'] = Cape_Database_4['Strike_Boolean'].replace(['BallCalled','BallinDirt', 'HitByPitch','BallIntentional'], 0)\n"
      ]
    },
    {
      "cell_type": "code",
      "execution_count": null,
      "metadata": {
        "id": "ClMM8UibFkY-"
      },
      "outputs": [],
      "source": [
        "Cape_Database_4['Strike_Boolean'].unique()"
      ]
    },
    {
      "cell_type": "code",
      "execution_count": null,
      "metadata": {
        "id": "hrBYOh2iFkY-"
      },
      "outputs": [],
      "source": [
        "#groupby Pitcher Team and take average of Strike_Boolean\n",
        "strike_percentage = Cape_Database_4.groupby('PitcherTeam')['Strike_Boolean'].mean().reset_index().sort_values(by='Strike_Boolean', ascending=False)"
      ]
    },
    {
      "cell_type": "code",
      "execution_count": null,
      "metadata": {
        "id": "xK-ex_8aFkY-"
      },
      "outputs": [],
      "source": [
        "strike_percentage"
      ]
    },
    {
      "cell_type": "code",
      "execution_count": null,
      "metadata": {
        "id": "__Ff97rpFkY-"
      },
      "outputs": [],
      "source": [
        "Cape_Database_4 = Cape_Database_4.reset_index(drop=True)"
      ]
    },
    {
      "cell_type": "code",
      "execution_count": null,
      "metadata": {
        "id": "16yu3MjeFkY-"
      },
      "outputs": [],
      "source": [
        "#remove duplicate rows\n",
        "Cape_Database_4 = Cape_Database_4.drop_duplicates()"
      ]
    },
    {
      "cell_type": "code",
      "execution_count": null,
      "metadata": {
        "id": "gbrJK4yLFkY-"
      },
      "outputs": [],
      "source": [
        "pitch_avg = Cape_Database_4.groupby(['Pitcher','TaggedPitchType','PitcherTeam'])['RelSpeed', 'Date', 'SpinRate', 'RelHeight', 'RelSide', 'Extension', 'InducedVertBreak', 'HorzBreak', 'xWhiff', 'stuff+'].mean().reset_index().sort_values(by='stuff+', ascending=False)"
      ]
    },
    {
      "cell_type": "code",
      "execution_count": null,
      "metadata": {
        "id": "Dt0Cch0FFkY-"
      },
      "outputs": [],
      "source": [
        "pitch_avg"
      ]
    },
    {
      "cell_type": "code",
      "execution_count": null,
      "metadata": {
        "id": "qdyfUhAbFkY-"
      },
      "outputs": [],
      "source": [
        "pitch_avg['Count'] = Cape_Database_4.groupby(['Pitcher','TaggedPitchType'])['RelSpeed'].count().reset_index()['RelSpeed']"
      ]
    }
  ],
  "metadata": {
    "kernelspec": {
      "display_name": "Python 3.9.13 ('base')",
      "language": "python",
      "name": "python3"
    },
    "language_info": {
      "codemirror_mode": {
        "name": "ipython",
        "version": 3
      },
      "file_extension": ".py",
      "mimetype": "text/x-python",
      "name": "python",
      "nbconvert_exporter": "python",
      "pygments_lexer": "ipython3",
      "version": "3.9.13"
    },
    "orig_nbformat": 4,
    "vscode": {
      "interpreter": {
        "hash": "ece8b02e9fc008d2bf4aaa30f9b06cdaffafe92b71d54bfc844a320ee0701ab8"
      }
    },
    "colab": {
      "provenance": [],
      "include_colab_link": true
    }
  },
  "nbformat": 4,
  "nbformat_minor": 0
}